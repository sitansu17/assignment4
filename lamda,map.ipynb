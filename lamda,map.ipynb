{
 "cells": [
  {
   "cell_type": "code",
   "execution_count": 22,
   "id": "d82ef517",
   "metadata": {},
   "outputs": [
    {
     "name": "stdout",
     "output_type": "stream",
     "text": [
      "10\n",
      "35\n"
     ]
    }
   ],
   "source": [
    "#1.Write a Python program to create a lambda function that adds 25 to a given number passed in as an argument.\n",
    "#sample input: 10\n",
    "#sample output: 35\n",
    "x=int(input())\n",
    "add25=lambda x:x+25\n",
    "print(add25(x))"
   ]
  },
  {
   "cell_type": "code",
   "execution_count": 33,
   "id": "590b5b5f",
   "metadata": {},
   "outputs": [
    {
     "name": "stdout",
     "output_type": "stream",
     "text": [
      "no of values in list:7\n",
      "1\n",
      "2\n",
      "3\n",
      "4\n",
      "5\n",
      "6\n",
      "7\n",
      "[1, 2, 3, 4, 5, 6, 7]\n",
      "[3, 6, 9, 12, 15, 18, 21]\n"
     ]
    }
   ],
   "source": [
    "#2.Write a Python program to triple all numbers of a given list of integers. Use Python map.\n",
    "#sample list: [1, 2, 3, 4, 5, 6, 7]\n",
    "#Triple of list numbers:\n",
    "#[3, 6, 9, 12, 15, 18, 21]\n",
    "n=int(input(\"no of values in list:\"))\n",
    "l=[]\n",
    "for i in range(n):\n",
    "    num=int(input())\n",
    "    l.append(num)\n",
    "print(l)\n",
    "triple=list(map(lambda x:x*3,l))\n",
    "print(triple)"
   ]
  },
  {
   "cell_type": "code",
   "execution_count": 37,
   "id": "83fb410e",
   "metadata": {},
   "outputs": [
    {
     "name": "stdout",
     "output_type": "stream",
     "text": [
      "no of values in list:4\n",
      "4\n",
      "5\n",
      "2\n",
      "9\n",
      "[4, 5, 2, 9]\n",
      "[16, 25, 4, 81]\n"
     ]
    }
   ],
   "source": [
    "#3.Write a Python program to square the elements of a list using map() function.\n",
    "#Sample List: [4, 5, 2, 9]\n",
    "#Square the elements of the list:\n",
    "#[16, 25, 4, 81]\n",
    "\n",
    "#answer#\n",
    "n=int(input(\"no of values in list:\"))\n",
    "l=[]\n",
    "for i in range(n):\n",
    "    num=int(input())\n",
    "    l.append(num)\n",
    "print(l)\n",
    "sqr=list(map(lambda x:x**2,l))\n",
    "print(sqr)"
   ]
  },
  {
   "cell_type": "code",
   "execution_count": null,
   "id": "988d0695",
   "metadata": {},
   "outputs": [],
   "source": []
  }
 ],
 "metadata": {
  "kernelspec": {
   "display_name": "Python 3",
   "language": "python",
   "name": "python3"
  },
  "language_info": {
   "codemirror_mode": {
    "name": "ipython",
    "version": 3
   },
   "file_extension": ".py",
   "mimetype": "text/x-python",
   "name": "python",
   "nbconvert_exporter": "python",
   "pygments_lexer": "ipython3",
   "version": "3.8.8"
  }
 },
 "nbformat": 4,
 "nbformat_minor": 5
}
